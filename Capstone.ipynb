{
 "cells": [
  {
   "cell_type": "markdown",
   "metadata": {},
   "source": [
    "# A Data Science Analysis of Where to Open a Traditional Irish Pub in Austin Texas"
   ]
  },
  {
   "cell_type": "markdown",
   "metadata": {},
   "source": [
    "## Introduction/Business Problem"
   ]
  },
  {
   "cell_type": "markdown",
   "metadata": {},
   "source": [
    "The city of Austin, Texas, is one of the fastest-growing cities in the United States in the number of people moving there each year.  In 2018, the population of Austin grew by 2.5%, with an estimated 100 people moving to the Austin metro area each day .  It is home to the University of Texas and a growing technology industry.  It is also growing in affluence, median income increased 9.35% over the past three years compared to the national average of 5.60%. Putting these factors together, Austin seems to offer a fertile opportunity for new business.\n",
    "\n",
    "Even before Austin became a \"go-to destination\" for relocation, it was well known for its nightlife and its live music scene earning it the nickname of \"Live Music Capital of the World.\"  Surprisingly, a preliminary examination of venues in Austin shows a lack of traditional Irish Pubs, defined as a place that combines not only the service of food and drink and traditional Irish Music, not just a place that serves Guinness.   Given that Irish Music has influenced many of the music genres that Austin is noted for, a traditional Irish pub could strike a balance in being both something different and yet familiar with broad appeal.\n",
    "\n",
    "The question, of course, is where is the ideal location to put open such a business and using data science analysis, this project attempts to answer this question\n"
   ]
  },
  {
   "cell_type": "markdown",
   "metadata": {},
   "source": [
    "## Data To Be Used"
   ]
  },
  {
   "cell_type": "markdown",
   "metadata": {},
   "source": [
    "To identify an appropriate location, we need to establish our criterion and locate data to support the same.  After a survey, the following criteria and data sources were identified\n",
    "<ul>\n",
    "<li>Austin Texas neighborhoods as identified by ZIP code.  Here we use data provided by SimpleMaps (<a href='https://simplemaps.com/data/us-zips'>https://simplemaps.com/data/us-zips)</a>.  The free version provides data on US zip codes, including Latitudes and Longitudes (thus eliminating the need for Geoendodind) and population density.</li>\n",
    "<li>Data on existing venues, and potential competitors, from the FourSquare api.  Data to be accessed including venues in the areas and ratings. (<a href='https://foursquare.com/'>https://foursquare.com/</a>)</li>\n",
    "<li>Median Income Data from the (<a href='http://zipatlas.com/us/tx/austin/zip-code-comparison/median-household-income.htm'>http://zipatlas.com/us/tx/austin/zip-code-comparison/median-household-income.htm</a>)\n",
    "<li>Existing sales of Beer, Wine and Mixed drinks as reported by the Texas Department of Taxation  (<a href='https://data.texas.gov/Government-and-Taxes/Mixed-Beverage-Gross-Receipts/naix-2893/data'>https://data.texas.gov/Government-and-Taxes/Mixed-Beverage-Gross-Receipts/naix-2893/data</a>)</li>\n",
    "<li>Crime Data from the Texas Department of Public Safety.  For the purposed of this study, we will only look at \"serious crime\" as determined by the assignment of an FBI tracking number. (<a href='https://data.austintexas.gov/Public-Safety/Crime-Reports-2018/vmn9-3bvu'>https://data.austintexas.gov/Public-Safety/Crime-Reports-2018/vmn9-3bvu</a>)</li>\n",
    "</ul>"
   ]
  },
  {
   "cell_type": "code",
   "execution_count": null,
   "metadata": {},
   "outputs": [],
   "source": []
  }
 ],
 "metadata": {
  "kernelspec": {
   "display_name": "Python 3",
   "language": "python",
   "name": "python3"
  },
  "language_info": {
   "codemirror_mode": {
    "name": "ipython",
    "version": 3
   },
   "file_extension": ".py",
   "mimetype": "text/x-python",
   "name": "python",
   "nbconvert_exporter": "python",
   "pygments_lexer": "ipython3",
   "version": "3.7.8"
  }
 },
 "nbformat": 4,
 "nbformat_minor": 4
}
